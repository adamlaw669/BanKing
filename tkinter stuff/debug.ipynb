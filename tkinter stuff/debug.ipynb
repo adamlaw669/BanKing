{
 "cells": [
  {
   "cell_type": "code",
   "execution_count": 20,
   "metadata": {},
   "outputs": [],
   "source": [
    "import csv\n",
    "user_db = {}\n",
    "csv_file = '/Users/mac/Documents/Bank/BanKing/tkinter stuff/user_db.csv'"
   ]
  },
  {
   "cell_type": "code",
   "execution_count": 21,
   "metadata": {},
   "outputs": [],
   "source": [
    "def load_users_from_csv():\n",
    "    global user_db\n",
    "    try:\n",
    "        with open(csv_file, 'r') as file:\n",
    "            reader = csv.DictReader(file)\n",
    "            print(f\"Field names: {reader.fieldnames}\")  # Debugging line\n",
    "            if reader.fieldnames != [\"Username\", 'Full_name', \"Password\", \"ID\", 'email', 'Type', \"Balance\"]:\n",
    "                print(\"Field names do not match expected names.\")  # Debugging line\n",
    "                return\n",
    "            for row in reader:\n",
    "                user_db[row['Username']] = {\n",
    "                    \"Password\": row[\"Password\"],\n",
    "                    \"email\": row[\"email\"],\n",
    "                    \"ID\": row[\"ID\"],\n",
    "                    \"acctype\": row[\"Type\"],\n",
    "                    \"Balance\": float(row[\"Balance\"]),\n",
    "                    'Full_name': row['Full_name'],\n",
    "                    'Username': row['Username']\n",
    "                }\n",
    "            print(f\"Loaded users: {user_db}\")  # Debugging line\n",
    "    except FileNotFoundError:\n",
    "        print(\"CSV file not found.\")  # Debugging line\n",
    "        return\n",
    "    except Exception as e:\n",
    "        print(f\"An error occurred: {e}\")  # Debugging line\n",
    "        \n",
    "        \n"
   ]
  },
  {
   "cell_type": "code",
   "execution_count": 22,
   "metadata": {},
   "outputs": [
    {
     "name": "stdout",
     "output_type": "stream",
     "text": [
      "Field names: ['Username', 'Full_name', 'Password', 'ID', 'email', 'Type', 'Balance']\n",
      "Loaded users: {'adam': {'Password': '1234', 'email': 'adam@gmail.com', 'ID': '98960f9a-0759-43e5-89de-e4a93564def2', 'acctype': 'Student', 'Balance': 0.0, 'Full_name': 'Lawal Adam', 'Username': 'adam'}, 'muiz': {'Password': '1234', 'email': 'muiz@gmail.com', 'ID': '33d3366a-adc5-42fd-afa3-4cbc66a2abd0', 'acctype': 'Student', 'Balance': 0.0, 'Full_name': 'Lawal Muiz', 'Username': 'muiz'}}\n",
      "{'adam': {'Password': '1234', 'email': 'adam@gmail.com', 'ID': '98960f9a-0759-43e5-89de-e4a93564def2', 'acctype': 'Student', 'Balance': 0.0, 'Full_name': 'Lawal Adam', 'Username': 'adam'}, 'muiz': {'Password': '1234', 'email': 'muiz@gmail.com', 'ID': '33d3366a-adc5-42fd-afa3-4cbc66a2abd0', 'acctype': 'Student', 'Balance': 0.0, 'Full_name': 'Lawal Muiz', 'Username': 'muiz'}}\n"
     ]
    }
   ],
   "source": [
    "load_users_from_csv()\n",
    "print(user_db)"
   ]
  },
  {
   "cell_type": "code",
   "execution_count": 1,
   "metadata": {},
   "outputs": [],
   "source": [
    "import tkinter as tk\n",
    "from tkinter import ttk\n",
    "\n",
    "def menu(root, username):\n",
    "    \"\"\"Menu where users can interact with various features.\"\"\"\n",
    "    clear_window(root)\n",
    "\n",
    "    style = ttk.Style()\n",
    "    style.configure('TButton', font=('Arial', 12), padding=10)\n",
    "    style.configure('TLabel', font=('Arial', 16))\n",
    "\n",
    "    ttk.Label(root, text=f\"Welcome, {username}\", style='TLabel').pack(pady=20)\n",
    "\n",
    "    # Show home balance and options\n",
    "    ttk.Button(root, text=\"Home Balance\", command=lambda: home_balance(root, username)).pack(pady=10)\n",
    "    ttk.Button(root, text=\"Send Money\", command=lambda: transfer(root, username)).pack(pady=10)\n",
    "    #ttk.Button(root, text=\"Request Money\", command=lambda: request_money(root,username)).pack(pady=10)\n",
    "    ttk.Button(root, text=\"Exit\", command=lambda: show_main_menu(root)).pack(pady=10)\n",
    "\n",
    "def home_balance(root, username):\n",
    "    \"\"\"Show the home balance and transaction options.\"\"\"\n",
    "    clear_window(root)\n",
    "    \n",
    "    style = ttk.Style()\n",
    "    style.configure('TButton', font=('Arial', 12), padding=10)\n",
    "    style.configure('TLabel', font=('Arial', 16))\n",
    "\n",
    "    welcome_message = f\"Welcome, {username}!\"\n",
    "    ttk.Label(root, text=welcome_message, style='TLabel').pack(pady=10)\n",
    "\n",
    "    account_balance = bank.user_db[username]['Balance']\n",
    "    ttk.Label(root, text=f\"Your Balance: ${account_balance:.2f}\", style='TLabel').pack(pady=20)\n",
    "\n",
    "    ttk.Button(root, text=\"Transfer\", command=lambda: transfer(root, username)).pack(pady=10)\n",
    "    ttk.Button(root, text=\"Back\", command=lambda: menu(root, username)).pack(pady=10)\n",
    "\n",
    "def transfer(root, username):\n",
    "    \"\"\"Send money to another user.\"\"\"\n",
    "    clear_window(root)\n",
    "    \n",
    "    style = ttk.Style()\n",
    "    style.configure('TButton', font=('Arial', 12), padding=10)\n",
    "    style.configure('TLabel', font=('Arial', 16))\n",
    "\n",
    "    ttk.Label(root, text=\"Transfer Money\", style='TLabel').pack(pady=20)\n",
    "    # Add more widgets for transfer functionality"
   ]
  },
  {
   "cell_type": "code",
   "execution_count": null,
   "metadata": {},
   "outputs": [],
   "source": []
  }
 ],
 "metadata": {
  "kernelspec": {
   "display_name": "base",
   "language": "python",
   "name": "python3"
  },
  "language_info": {
   "codemirror_mode": {
    "name": "ipython",
    "version": 3
   },
   "file_extension": ".py",
   "mimetype": "text/x-python",
   "name": "python",
   "nbconvert_exporter": "python",
   "pygments_lexer": "ipython3",
   "version": "3.12.7"
  }
 },
 "nbformat": 4,
 "nbformat_minor": 2
}
